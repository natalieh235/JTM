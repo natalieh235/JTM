{
 "cells": [
  {
   "cell_type": "code",
   "execution_count": 1,
   "metadata": {
    "scrolled": true
   },
   "outputs": [
    {
     "name": "stderr",
     "output_type": "stream",
     "text": [
      "C:\\Users\\admin\\anaconda3\\lib\\site-packages\\torchaudio\\extension\\extension.py:13: UserWarning: torchaudio C++ extension is not available.\n",
      "  warnings.warn('torchaudio C++ extension is not available.')\n"
     ]
    }
   ],
   "source": [
    "from sklearn.model_selection import train_test_split\n",
    "from pathlib import Path\n",
    "import soundfile as sf\n",
    "import os\n",
    "import numpy as np\n",
    "import pandas as pd\n",
    "import torch\n",
    "import torch.nn as nn\n",
    "import torchaudio\n",
    "import librosa\n",
    "from tqdm import tqdm, trange\n",
    "import pickle\n",
    "import matplotlib.pyplot as plt\n"
   ]
  },
  {
   "cell_type": "code",
   "execution_count": 4,
   "metadata": {},
   "outputs": [],
   "source": [
    "rawAudioPath = Path('C:/Users/admin/Desktop/UWR/Lato_2020_2021/Project DL/Project2/data/musicnet_lousy/train_data')\n",
    "song_id = 1727\n",
    "\n",
    "sequence, samplingRate = librosa.load(rawAudioPath / (str(song_id) + '.wav'), sr=16000)\n",
    "sequence = torch.tensor(sequence).float()"
   ]
  },
  {
   "cell_type": "code",
   "execution_count": 5,
   "metadata": {},
   "outputs": [
    {
     "data": {
      "text/plain": [
       "7152954"
      ]
     },
     "execution_count": 5,
     "metadata": {},
     "output_type": "execute_result"
    }
   ],
   "source": [
    "sequence.shape[0]"
   ]
  },
  {
   "cell_type": "code",
   "execution_count": 6,
   "metadata": {},
   "outputs": [],
   "source": [
    "labeling = pd.read_csv(f'C:/Users/admin/Desktop/UWR/Lato_2020_2021/Project DL/Project2/data/musicnet_lousy/train_labels/{song_id}.csv')"
   ]
  },
  {
   "cell_type": "code",
   "execution_count": 7,
   "metadata": {},
   "outputs": [
    {
     "data": {
      "text/html": [
       "<div>\n",
       "<style scoped>\n",
       "    .dataframe tbody tr th:only-of-type {\n",
       "        vertical-align: middle;\n",
       "    }\n",
       "\n",
       "    .dataframe tbody tr th {\n",
       "        vertical-align: top;\n",
       "    }\n",
       "\n",
       "    .dataframe thead th {\n",
       "        text-align: right;\n",
       "    }\n",
       "</style>\n",
       "<table border=\"1\" class=\"dataframe\">\n",
       "  <thead>\n",
       "    <tr style=\"text-align: right;\">\n",
       "      <th></th>\n",
       "      <th>start_time</th>\n",
       "      <th>end_time</th>\n",
       "      <th>instrument</th>\n",
       "      <th>note</th>\n",
       "      <th>start_beat</th>\n",
       "      <th>end_beat</th>\n",
       "      <th>note_value</th>\n",
       "    </tr>\n",
       "  </thead>\n",
       "  <tbody>\n",
       "    <tr>\n",
       "      <th>0</th>\n",
       "      <td>9182</td>\n",
       "      <td>90078</td>\n",
       "      <td>43</td>\n",
       "      <td>53</td>\n",
       "      <td>4.000</td>\n",
       "      <td>1.500</td>\n",
       "      <td>Dotted Quarter</td>\n",
       "    </tr>\n",
       "    <tr>\n",
       "      <th>1</th>\n",
       "      <td>9182</td>\n",
       "      <td>33758</td>\n",
       "      <td>42</td>\n",
       "      <td>65</td>\n",
       "      <td>4.000</td>\n",
       "      <td>0.500</td>\n",
       "      <td>Eighth</td>\n",
       "    </tr>\n",
       "    <tr>\n",
       "      <th>2</th>\n",
       "      <td>9182</td>\n",
       "      <td>62430</td>\n",
       "      <td>1</td>\n",
       "      <td>69</td>\n",
       "      <td>4.000</td>\n",
       "      <td>1.000</td>\n",
       "      <td>Quarter</td>\n",
       "    </tr>\n",
       "    <tr>\n",
       "      <th>3</th>\n",
       "      <td>9182</td>\n",
       "      <td>202206</td>\n",
       "      <td>44</td>\n",
       "      <td>41</td>\n",
       "      <td>4.000</td>\n",
       "      <td>3.500</td>\n",
       "      <td>Whole</td>\n",
       "    </tr>\n",
       "    <tr>\n",
       "      <th>4</th>\n",
       "      <td>9182</td>\n",
       "      <td>62430</td>\n",
       "      <td>1</td>\n",
       "      <td>81</td>\n",
       "      <td>4.000</td>\n",
       "      <td>1.000</td>\n",
       "      <td>Quarter</td>\n",
       "    </tr>\n",
       "    <tr>\n",
       "      <th>...</th>\n",
       "      <td>...</td>\n",
       "      <td>...</td>\n",
       "      <td>...</td>\n",
       "      <td>...</td>\n",
       "      <td>...</td>\n",
       "      <td>...</td>\n",
       "      <td>...</td>\n",
       "    </tr>\n",
       "    <tr>\n",
       "      <th>6575</th>\n",
       "      <td>19196894</td>\n",
       "      <td>19421150</td>\n",
       "      <td>44</td>\n",
       "      <td>29</td>\n",
       "      <td>365.000</td>\n",
       "      <td>3.000</td>\n",
       "      <td>Dotted Half</td>\n",
       "    </tr>\n",
       "    <tr>\n",
       "      <th>6576</th>\n",
       "      <td>19226590</td>\n",
       "      <td>19233758</td>\n",
       "      <td>1</td>\n",
       "      <td>60</td>\n",
       "      <td>365.375</td>\n",
       "      <td>0.125</td>\n",
       "      <td>Thirty Second</td>\n",
       "    </tr>\n",
       "    <tr>\n",
       "      <th>6577</th>\n",
       "      <td>19226590</td>\n",
       "      <td>19233758</td>\n",
       "      <td>1</td>\n",
       "      <td>48</td>\n",
       "      <td>365.375</td>\n",
       "      <td>0.125</td>\n",
       "      <td>Thirty Second</td>\n",
       "    </tr>\n",
       "    <tr>\n",
       "      <th>6578</th>\n",
       "      <td>19233758</td>\n",
       "      <td>19421150</td>\n",
       "      <td>1</td>\n",
       "      <td>65</td>\n",
       "      <td>365.500</td>\n",
       "      <td>2.500</td>\n",
       "      <td>Dotted Half</td>\n",
       "    </tr>\n",
       "    <tr>\n",
       "      <th>6579</th>\n",
       "      <td>19233758</td>\n",
       "      <td>19421150</td>\n",
       "      <td>1</td>\n",
       "      <td>53</td>\n",
       "      <td>365.500</td>\n",
       "      <td>2.500</td>\n",
       "      <td>Dotted Half</td>\n",
       "    </tr>\n",
       "  </tbody>\n",
       "</table>\n",
       "<p>6580 rows × 7 columns</p>\n",
       "</div>"
      ],
      "text/plain": [
       "      start_time  end_time  instrument  note  start_beat  end_beat  \\\n",
       "0           9182     90078          43    53       4.000     1.500   \n",
       "1           9182     33758          42    65       4.000     0.500   \n",
       "2           9182     62430           1    69       4.000     1.000   \n",
       "3           9182    202206          44    41       4.000     3.500   \n",
       "4           9182     62430           1    81       4.000     1.000   \n",
       "...          ...       ...         ...   ...         ...       ...   \n",
       "6575    19196894  19421150          44    29     365.000     3.000   \n",
       "6576    19226590  19233758           1    60     365.375     0.125   \n",
       "6577    19226590  19233758           1    48     365.375     0.125   \n",
       "6578    19233758  19421150           1    65     365.500     2.500   \n",
       "6579    19233758  19421150           1    53     365.500     2.500   \n",
       "\n",
       "          note_value  \n",
       "0     Dotted Quarter  \n",
       "1             Eighth  \n",
       "2            Quarter  \n",
       "3              Whole  \n",
       "4            Quarter  \n",
       "...              ...  \n",
       "6575     Dotted Half  \n",
       "6576   Thirty Second  \n",
       "6577   Thirty Second  \n",
       "6578     Dotted Half  \n",
       "6579     Dotted Half  \n",
       "\n",
       "[6580 rows x 7 columns]"
      ]
     },
     "execution_count": 7,
     "metadata": {},
     "output_type": "execute_result"
    }
   ],
   "source": [
    "labeling"
   ]
  },
  {
   "cell_type": "code",
   "execution_count": 8,
   "metadata": {},
   "outputs": [],
   "source": [
    "# the sampling in the label files are for the 44KHz sampling - need to convert to our 16KHz"
   ]
  },
  {
   "cell_type": "code",
   "execution_count": 9,
   "metadata": {},
   "outputs": [],
   "source": [
    "labeling['start_time'] = labeling['start_time'] / 44100\n",
    "labeling['end_time'] = labeling['end_time'] / 44100"
   ]
  },
  {
   "cell_type": "code",
   "execution_count": 10,
   "metadata": {},
   "outputs": [
    {
     "data": {
      "text/html": [
       "<div>\n",
       "<style scoped>\n",
       "    .dataframe tbody tr th:only-of-type {\n",
       "        vertical-align: middle;\n",
       "    }\n",
       "\n",
       "    .dataframe tbody tr th {\n",
       "        vertical-align: top;\n",
       "    }\n",
       "\n",
       "    .dataframe thead th {\n",
       "        text-align: right;\n",
       "    }\n",
       "</style>\n",
       "<table border=\"1\" class=\"dataframe\">\n",
       "  <thead>\n",
       "    <tr style=\"text-align: right;\">\n",
       "      <th></th>\n",
       "      <th>start_time</th>\n",
       "      <th>end_time</th>\n",
       "      <th>instrument</th>\n",
       "      <th>note</th>\n",
       "      <th>start_beat</th>\n",
       "      <th>end_beat</th>\n",
       "      <th>note_value</th>\n",
       "    </tr>\n",
       "  </thead>\n",
       "  <tbody>\n",
       "    <tr>\n",
       "      <th>0</th>\n",
       "      <td>0.208209</td>\n",
       "      <td>2.042585</td>\n",
       "      <td>43</td>\n",
       "      <td>53</td>\n",
       "      <td>4.000</td>\n",
       "      <td>1.500</td>\n",
       "      <td>Dotted Quarter</td>\n",
       "    </tr>\n",
       "    <tr>\n",
       "      <th>1</th>\n",
       "      <td>0.208209</td>\n",
       "      <td>0.765488</td>\n",
       "      <td>42</td>\n",
       "      <td>65</td>\n",
       "      <td>4.000</td>\n",
       "      <td>0.500</td>\n",
       "      <td>Eighth</td>\n",
       "    </tr>\n",
       "    <tr>\n",
       "      <th>2</th>\n",
       "      <td>0.208209</td>\n",
       "      <td>1.415646</td>\n",
       "      <td>1</td>\n",
       "      <td>69</td>\n",
       "      <td>4.000</td>\n",
       "      <td>1.000</td>\n",
       "      <td>Quarter</td>\n",
       "    </tr>\n",
       "    <tr>\n",
       "      <th>3</th>\n",
       "      <td>0.208209</td>\n",
       "      <td>4.585170</td>\n",
       "      <td>44</td>\n",
       "      <td>41</td>\n",
       "      <td>4.000</td>\n",
       "      <td>3.500</td>\n",
       "      <td>Whole</td>\n",
       "    </tr>\n",
       "    <tr>\n",
       "      <th>4</th>\n",
       "      <td>0.208209</td>\n",
       "      <td>1.415646</td>\n",
       "      <td>1</td>\n",
       "      <td>81</td>\n",
       "      <td>4.000</td>\n",
       "      <td>1.000</td>\n",
       "      <td>Quarter</td>\n",
       "    </tr>\n",
       "    <tr>\n",
       "      <th>...</th>\n",
       "      <td>...</td>\n",
       "      <td>...</td>\n",
       "      <td>...</td>\n",
       "      <td>...</td>\n",
       "      <td>...</td>\n",
       "      <td>...</td>\n",
       "      <td>...</td>\n",
       "    </tr>\n",
       "    <tr>\n",
       "      <th>6575</th>\n",
       "      <td>435.303719</td>\n",
       "      <td>440.388889</td>\n",
       "      <td>44</td>\n",
       "      <td>29</td>\n",
       "      <td>365.000</td>\n",
       "      <td>3.000</td>\n",
       "      <td>Dotted Half</td>\n",
       "    </tr>\n",
       "    <tr>\n",
       "      <th>6576</th>\n",
       "      <td>435.977098</td>\n",
       "      <td>436.139637</td>\n",
       "      <td>1</td>\n",
       "      <td>60</td>\n",
       "      <td>365.375</td>\n",
       "      <td>0.125</td>\n",
       "      <td>Thirty Second</td>\n",
       "    </tr>\n",
       "    <tr>\n",
       "      <th>6577</th>\n",
       "      <td>435.977098</td>\n",
       "      <td>436.139637</td>\n",
       "      <td>1</td>\n",
       "      <td>48</td>\n",
       "      <td>365.375</td>\n",
       "      <td>0.125</td>\n",
       "      <td>Thirty Second</td>\n",
       "    </tr>\n",
       "    <tr>\n",
       "      <th>6578</th>\n",
       "      <td>436.139637</td>\n",
       "      <td>440.388889</td>\n",
       "      <td>1</td>\n",
       "      <td>65</td>\n",
       "      <td>365.500</td>\n",
       "      <td>2.500</td>\n",
       "      <td>Dotted Half</td>\n",
       "    </tr>\n",
       "    <tr>\n",
       "      <th>6579</th>\n",
       "      <td>436.139637</td>\n",
       "      <td>440.388889</td>\n",
       "      <td>1</td>\n",
       "      <td>53</td>\n",
       "      <td>365.500</td>\n",
       "      <td>2.500</td>\n",
       "      <td>Dotted Half</td>\n",
       "    </tr>\n",
       "  </tbody>\n",
       "</table>\n",
       "<p>6580 rows × 7 columns</p>\n",
       "</div>"
      ],
      "text/plain": [
       "      start_time    end_time  instrument  note  start_beat  end_beat  \\\n",
       "0       0.208209    2.042585          43    53       4.000     1.500   \n",
       "1       0.208209    0.765488          42    65       4.000     0.500   \n",
       "2       0.208209    1.415646           1    69       4.000     1.000   \n",
       "3       0.208209    4.585170          44    41       4.000     3.500   \n",
       "4       0.208209    1.415646           1    81       4.000     1.000   \n",
       "...          ...         ...         ...   ...         ...       ...   \n",
       "6575  435.303719  440.388889          44    29     365.000     3.000   \n",
       "6576  435.977098  436.139637           1    60     365.375     0.125   \n",
       "6577  435.977098  436.139637           1    48     365.375     0.125   \n",
       "6578  436.139637  440.388889           1    65     365.500     2.500   \n",
       "6579  436.139637  440.388889           1    53     365.500     2.500   \n",
       "\n",
       "          note_value  \n",
       "0     Dotted Quarter  \n",
       "1             Eighth  \n",
       "2            Quarter  \n",
       "3              Whole  \n",
       "4            Quarter  \n",
       "...              ...  \n",
       "6575     Dotted Half  \n",
       "6576   Thirty Second  \n",
       "6577   Thirty Second  \n",
       "6578     Dotted Half  \n",
       "6579     Dotted Half  \n",
       "\n",
       "[6580 rows x 7 columns]"
      ]
     },
     "execution_count": 10,
     "metadata": {},
     "output_type": "execute_result"
    }
   ],
   "source": [
    "labeling"
   ]
  },
  {
   "cell_type": "code",
   "execution_count": 11,
   "metadata": {},
   "outputs": [],
   "source": [
    "n_notes = 128 # include silence as additional note\n",
    "n_instruments = 128 # include silence as an instrument"
   ]
  },
  {
   "cell_type": "markdown",
   "metadata": {},
   "source": [
    "Each vector in the latent representation spans a 10ms window from the original audio, ie. $0.01 \\times 16000 = 160$ samples"
   ]
  },
  {
   "cell_type": "code",
   "execution_count": 12,
   "metadata": {},
   "outputs": [],
   "source": [
    "window_size_ms = 10"
   ]
  },
  {
   "cell_type": "code",
   "execution_count": 13,
   "metadata": {},
   "outputs": [],
   "source": [
    "downsampling = window_size_ms / 1000 * samplingRate"
   ]
  },
  {
   "cell_type": "code",
   "execution_count": 14,
   "metadata": {},
   "outputs": [],
   "source": [
    "n_windows = int(np.ceil(sequence.shape[0] / downsampling))"
   ]
  },
  {
   "cell_type": "code",
   "execution_count": 15,
   "metadata": {},
   "outputs": [],
   "source": [
    "target_matrix_tensor = torch.zeros(n_windows, n_notes + 1, n_instruments + 1)"
   ]
  },
  {
   "cell_type": "code",
   "execution_count": 16,
   "metadata": {},
   "outputs": [
    {
     "name": "stderr",
     "output_type": "stream",
     "text": [
      "100%|██████████| 44706/44706 [01:02<00:00, 715.87it/s]\n"
     ]
    }
   ],
   "source": [
    "for i in trange(n_windows):\n",
    "    end = (i+1) * window_size_ms / 1000\n",
    "    playing = labeling[(labeling['start_time'] <= end) & \\\n",
    "                       (end <= labeling['end_time'])][['note', 'instrument']].values\n",
    "    notes, instruments = playing[:, 0], playing[:,1]\n",
    "    if len(notes) == 0:\n",
    "        # if silence, then instrument == 0 plays note == 0\n",
    "        target_matrix_tensor[i, 0, 0] = 1\n",
    "    else:\n",
    "        target_matrix_tensor[i, notes, instruments] = 1"
   ]
  },
  {
   "cell_type": "code",
   "execution_count": 17,
   "metadata": {},
   "outputs": [
    {
     "name": "stdout",
     "output_type": "stream",
     "text": [
      "tensor(1.)\n",
      "tensor(1.)\n",
      "tensor(1.)\n",
      "tensor(1.)\n",
      "tensor(1.)\n",
      "tensor(1.)\n",
      "tensor(1.)\n",
      "tensor(1.)\n",
      "tensor(1.)\n",
      "tensor(1.)\n",
      "tensor(1.)\n",
      "tensor(1.)\n",
      "tensor(1.)\n",
      "tensor(1.)\n",
      "tensor(1.)\n",
      "tensor(1.)\n",
      "tensor(1.)\n",
      "tensor(1.)\n",
      "tensor(1.)\n",
      "tensor(1.)\n",
      "tensor(5.)\n"
     ]
    }
   ],
   "source": [
    "# check: the first 20 tensors should be silent, then we have 5 notes being playes:\n",
    "\n",
    "for i in range(21):\n",
    "    print(target_matrix_tensor[i].sum())"
   ]
  },
  {
   "cell_type": "markdown",
   "metadata": {},
   "source": [
    "Wrap the above into a function:"
   ]
  },
  {
   "cell_type": "code",
   "execution_count": 18,
   "metadata": {},
   "outputs": [],
   "source": [
    "def MusicTranscripter(sequence_path,\n",
    "                      labels_path,\n",
    "                      path_to_save,\n",
    "                      n_notes=128,\n",
    "                      window_size_ms=30):\n",
    "    \n",
    "    '''\n",
    "    Provides binary target matrices denoting all instruments that play during\n",
    "    for each window_size_ms window in the latent representations\n",
    "    '''\n",
    "\n",
    "    labeling = pd.read_csv(labels_path)\n",
    "\n",
    "    # convert time columns to seconds for simplicity\n",
    "    labeling['start_time'] = labeling['start_time'] / 44100\n",
    "    labeling['end_time'] = labeling['end_time'] / 44100\n",
    "    \n",
    "    rawAudioPath = Path(sequence_path)\n",
    "    sequence, samplingRate = librosa.load(sequence_path, sr=16000)\n",
    "    downsampling = window_size_ms / 1000 * samplingRate\n",
    "    n_windows = int(np.ceil(sequence.shape[0] / downsampling)) # allow for aggregating windows\n",
    "    transcription = torch.zeros(n_windows, n_notes + 1)\n",
    "    \n",
    "\n",
    "    for i in range(n_windows):\n",
    "        \n",
    "        start= (i) * window_size_ms / 1000\n",
    "        end = (i+1) * window_size_ms / 1000\n",
    "    \n",
    "        notes = labeling[(labeling['start_time'] <= end) & \\\n",
    "                       (start<= labeling['start_time'])].note.values\n",
    "\n",
    "        if len(notes) == 0:\n",
    "            # if silence, then instrument == 0 plays note == 0\n",
    "            transcription[i, 0] = 1\n",
    "        else:\n",
    "            transcription[i, notes] = 1\n",
    "    track_id = sequence_path.split('.')[-2].split('/')[-1]\n",
    "    torch.save(transcription, f'{path_to_save}/label_{track_id}.pt')"
   ]
  },
  {
   "cell_type": "markdown",
   "metadata": {},
   "source": [
    "# Exploring data"
   ]
  },
  {
   "cell_type": "code",
   "execution_count": 20,
   "metadata": {},
   "outputs": [
    {
     "name": "stdout",
     "output_type": "stream",
     "text": [
      "elapsed time creating transcription label: 28.204637050628662\n"
     ]
    }
   ],
   "source": [
    "from time import time\n",
    "# longest track on training data\n",
    "track_id=2315\n",
    "sequence_path = f\"C:/Users/admin/Desktop/UWR/Lato_2020_2021/Project DL/Project2/data/musicnet_lousy/train_data/{track_id}.wav\" \n",
    "labels_path = f\"C:/Users/admin/Desktop/UWR/Lato_2020_2021/Project DL/Project2/data/musicnet_lousy/train_labels/{track_id}.csv\"\n",
    "\n",
    "t1= time()\n",
    "label_transcription =MusicTranscripter(sequence_path,\n",
    "                      labels_path,\n",
    "                      \"C:/Users/admin/Desktop/UWR/Lato_2020_2021/Project DL/Project2/data/musicnet_lousy\",\n",
    "                      n_notes=128,\n",
    "                      window_size_ms=30)\n",
    "print(f\"elapsed time creating transcription label: {time()-t1}\")\n"
   ]
  },
  {
   "cell_type": "code",
   "execution_count": 21,
   "metadata": {},
   "outputs": [
    {
     "data": {
      "text/plain": [
       "'2315'"
      ]
     },
     "execution_count": 21,
     "metadata": {},
     "output_type": "execute_result"
    }
   ],
   "source": [
    "sequence_path.split('.')[-2].split('/')[-1]"
   ]
  },
  {
   "cell_type": "code",
   "execution_count": 22,
   "metadata": {},
   "outputs": [
    {
     "name": "stdout",
     "output_type": "stream",
     "text": [
      "elapsed time saving label: 0.0019731521606445312\n"
     ]
    }
   ],
   "source": [
    "t1=time()\n",
    "torch.save(label_transcription, f'label_t_{track_id}.pt')\n",
    "print(f\"elapsed time saving label: {time()-t1}\")"
   ]
  },
  {
   "cell_type": "code",
   "execution_count": 23,
   "metadata": {},
   "outputs": [
    {
     "name": "stdout",
     "output_type": "stream",
     "text": [
      "elapsed time loading label: 0.026214122772216797\n"
     ]
    }
   ],
   "source": [
    "t1=time()\n",
    "loaded_label = torch.load('label_t_2315.pt', map_location=torch.device('cpu'))\n",
    "print(f\"elapsed time loading label: {time()-t1}\")"
   ]
  },
  {
   "cell_type": "markdown",
   "metadata": {},
   "source": [
    "# Creating labels"
   ]
  },
  {
   "cell_type": "code",
   "execution_count": 24,
   "metadata": {},
   "outputs": [],
   "source": [
    "from tqdm.notebook import tqdm\n",
    "import os\n",
    "def create_transcription_labels(path_metadata, path_to_labels, path_to_seqs, path_to_save, windows_size=30, select_ensemble=None):\n",
    "    '''\n",
    "    Creates transcription labels per track given a window size.\n",
    "\n",
    "    path_metadata : Path to csv metadata file\n",
    "    path_to_labels: Path to labels directory \n",
    "    path_to_seqs  : Path to wav files directory\n",
    "    path_to_save  : Path to directory where labels will be stored\n",
    "    window_size   : time window size for which the labels will be created\n",
    "    select_enseble: name of the ensemble to filter by, by default None, i.e. all ensembles are considered \n",
    "    '''\n",
    "    metadata = pd.read_csv(path_metadata) \n",
    "    \n",
    "    if not os.path.isdir(path_to_save):\n",
    "        os.mkdir(path_to_save)\n",
    "\n",
    "    if select_ensemble is not None:\n",
    "        metadata = metadata[metadata['ensemble'] == select_ensemble]\n",
    "    track_ids = metadata.id.values\n",
    "    \n",
    "    list(map(lambda x: MusicTranscripter(f\"{path_to_seqs}/{x}.wav\", f\"{path_to_labels}/{x}.csv\", path_to_save, window_size_ms= windows_size),\n",
    "     tqdm(track_ids)))"
   ]
  },
  {
   "cell_type": "code",
   "execution_count": 27,
   "metadata": {},
   "outputs": [
    {
     "data": {
      "application/vnd.jupyter.widget-view+json": {
       "model_id": "0ff215f7f6f2432bbfa6c9443129ddd2",
       "version_major": 2,
       "version_minor": 0
      },
      "text/plain": [
       "HBox(children=(HTML(value=''), FloatProgress(value=0.0, max=153.0), HTML(value='')))"
      ]
     },
     "metadata": {},
     "output_type": "display_data"
    },
    {
     "name": "stdout",
     "output_type": "stream",
     "text": [
      "\n"
     ]
    }
   ],
   "source": [
    "path_metadata = \"C:/Users/admin/Desktop/UWR/Lato_2020_2021/Project DL/Project2/data/musicnet_metadata_train.csv\"\n",
    "path_to_labels= \"C:/Users/admin/Desktop/UWR/Lato_2020_2021/Project DL/Project2/data/musicnet_lousy/train_labels\"\n",
    "path_to_seqs= \"C:/Users/admin/Desktop/UWR/Lato_2020_2021/Project DL/Project2/data/musicnet_lousy/train_data\"\n",
    "path_to_save= \"C:/Users/admin/Desktop/UWR/Lato_2020_2021/Project DL/Project2/data/musicnet_lousy/train_transcription_labels\"\n",
    "\n",
    "create_transcription_labels(path_metadata, path_to_labels, path_to_seqs, path_to_save, windows_size=300, select_ensemble='Solo Piano')"
   ]
  },
  {
   "cell_type": "code",
   "execution_count": null,
   "metadata": {},
   "outputs": [],
   "source": []
  }
 ],
 "metadata": {
  "kernelspec": {
   "display_name": "Python 3",
   "language": "python",
   "name": "python3"
  },
  "language_info": {
   "codemirror_mode": {
    "name": "ipython",
    "version": 3
   },
   "file_extension": ".py",
   "mimetype": "text/x-python",
   "name": "python",
   "nbconvert_exporter": "python",
   "pygments_lexer": "ipython3",
   "version": "3.8.5"
  }
 },
 "nbformat": 4,
 "nbformat_minor": 4
}
