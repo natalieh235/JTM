{
 "cells": [
  {
   "cell_type": "code",
   "execution_count": 1,
   "metadata": {},
   "outputs": [
    {
     "name": "stderr",
     "output_type": "stream",
     "text": [
      "C:\\Users\\admin\\anaconda3\\lib\\site-packages\\torchaudio\\extension\\extension.py:13: UserWarning: torchaudio C++ extension is not available.\n",
      "  warnings.warn('torchaudio C++ extension is not available.')\n"
     ]
    }
   ],
   "source": [
    "from sklearn.model_selection import train_test_split\n",
    "from pathlib import Path\n",
    "import soundfile as sf\n",
    "import os\n",
    "import numpy as np\n",
    "import pandas as pd\n",
    "import torch\n",
    "import torch.nn as nn\n",
    "import torchaudio\n",
    "import librosa\n",
    "from tqdm import tqdm, trange\n",
    "import pickle\n",
    "import matplotlib.pyplot as plt"
   ]
  },
  {
   "cell_type": "code",
   "execution_count": 2,
   "metadata": {},
   "outputs": [],
   "source": [
    "rawAudioPath = Path('data/musicnet_lousy/train_data')\n",
    "song_id = 1727\n",
    "\n",
    "sequence, samplingRate = librosa.load(rawAudioPath / (str(song_id) + '.wav'), sr=16000)\n",
    "sequence = torch.tensor(sequence).float()"
   ]
  },
  {
   "cell_type": "code",
   "execution_count": 3,
   "metadata": {},
   "outputs": [
    {
     "data": {
      "text/plain": [
       "7152954"
      ]
     },
     "execution_count": 3,
     "metadata": {},
     "output_type": "execute_result"
    }
   ],
   "source": [
    "sequence.shape[0]"
   ]
  },
  {
   "cell_type": "code",
   "execution_count": 4,
   "metadata": {},
   "outputs": [],
   "source": [
    "labeling = pd.read_csv(f'./data/musicnet_lousy/train_labels/{song_id}.csv')"
   ]
  },
  {
   "cell_type": "code",
   "execution_count": 5,
   "metadata": {},
   "outputs": [
    {
     "data": {
      "text/html": [
       "<div>\n",
       "<style scoped>\n",
       "    .dataframe tbody tr th:only-of-type {\n",
       "        vertical-align: middle;\n",
       "    }\n",
       "\n",
       "    .dataframe tbody tr th {\n",
       "        vertical-align: top;\n",
       "    }\n",
       "\n",
       "    .dataframe thead th {\n",
       "        text-align: right;\n",
       "    }\n",
       "</style>\n",
       "<table border=\"1\" class=\"dataframe\">\n",
       "  <thead>\n",
       "    <tr style=\"text-align: right;\">\n",
       "      <th></th>\n",
       "      <th>start_time</th>\n",
       "      <th>end_time</th>\n",
       "      <th>instrument</th>\n",
       "      <th>note</th>\n",
       "      <th>start_beat</th>\n",
       "      <th>end_beat</th>\n",
       "      <th>note_value</th>\n",
       "    </tr>\n",
       "  </thead>\n",
       "  <tbody>\n",
       "    <tr>\n",
       "      <th>0</th>\n",
       "      <td>9182</td>\n",
       "      <td>90078</td>\n",
       "      <td>43</td>\n",
       "      <td>53</td>\n",
       "      <td>4.000</td>\n",
       "      <td>1.500</td>\n",
       "      <td>Dotted Quarter</td>\n",
       "    </tr>\n",
       "    <tr>\n",
       "      <th>1</th>\n",
       "      <td>9182</td>\n",
       "      <td>33758</td>\n",
       "      <td>42</td>\n",
       "      <td>65</td>\n",
       "      <td>4.000</td>\n",
       "      <td>0.500</td>\n",
       "      <td>Eighth</td>\n",
       "    </tr>\n",
       "    <tr>\n",
       "      <th>2</th>\n",
       "      <td>9182</td>\n",
       "      <td>62430</td>\n",
       "      <td>1</td>\n",
       "      <td>69</td>\n",
       "      <td>4.000</td>\n",
       "      <td>1.000</td>\n",
       "      <td>Quarter</td>\n",
       "    </tr>\n",
       "    <tr>\n",
       "      <th>3</th>\n",
       "      <td>9182</td>\n",
       "      <td>202206</td>\n",
       "      <td>44</td>\n",
       "      <td>41</td>\n",
       "      <td>4.000</td>\n",
       "      <td>3.500</td>\n",
       "      <td>Whole</td>\n",
       "    </tr>\n",
       "    <tr>\n",
       "      <th>4</th>\n",
       "      <td>9182</td>\n",
       "      <td>62430</td>\n",
       "      <td>1</td>\n",
       "      <td>81</td>\n",
       "      <td>4.000</td>\n",
       "      <td>1.000</td>\n",
       "      <td>Quarter</td>\n",
       "    </tr>\n",
       "    <tr>\n",
       "      <th>...</th>\n",
       "      <td>...</td>\n",
       "      <td>...</td>\n",
       "      <td>...</td>\n",
       "      <td>...</td>\n",
       "      <td>...</td>\n",
       "      <td>...</td>\n",
       "      <td>...</td>\n",
       "    </tr>\n",
       "    <tr>\n",
       "      <th>6575</th>\n",
       "      <td>19196894</td>\n",
       "      <td>19421150</td>\n",
       "      <td>44</td>\n",
       "      <td>29</td>\n",
       "      <td>365.000</td>\n",
       "      <td>3.000</td>\n",
       "      <td>Dotted Half</td>\n",
       "    </tr>\n",
       "    <tr>\n",
       "      <th>6576</th>\n",
       "      <td>19226590</td>\n",
       "      <td>19233758</td>\n",
       "      <td>1</td>\n",
       "      <td>60</td>\n",
       "      <td>365.375</td>\n",
       "      <td>0.125</td>\n",
       "      <td>Thirty Second</td>\n",
       "    </tr>\n",
       "    <tr>\n",
       "      <th>6577</th>\n",
       "      <td>19226590</td>\n",
       "      <td>19233758</td>\n",
       "      <td>1</td>\n",
       "      <td>48</td>\n",
       "      <td>365.375</td>\n",
       "      <td>0.125</td>\n",
       "      <td>Thirty Second</td>\n",
       "    </tr>\n",
       "    <tr>\n",
       "      <th>6578</th>\n",
       "      <td>19233758</td>\n",
       "      <td>19421150</td>\n",
       "      <td>1</td>\n",
       "      <td>65</td>\n",
       "      <td>365.500</td>\n",
       "      <td>2.500</td>\n",
       "      <td>Dotted Half</td>\n",
       "    </tr>\n",
       "    <tr>\n",
       "      <th>6579</th>\n",
       "      <td>19233758</td>\n",
       "      <td>19421150</td>\n",
       "      <td>1</td>\n",
       "      <td>53</td>\n",
       "      <td>365.500</td>\n",
       "      <td>2.500</td>\n",
       "      <td>Dotted Half</td>\n",
       "    </tr>\n",
       "  </tbody>\n",
       "</table>\n",
       "<p>6580 rows × 7 columns</p>\n",
       "</div>"
      ],
      "text/plain": [
       "      start_time  end_time  instrument  note  start_beat  end_beat  \\\n",
       "0           9182     90078          43    53       4.000     1.500   \n",
       "1           9182     33758          42    65       4.000     0.500   \n",
       "2           9182     62430           1    69       4.000     1.000   \n",
       "3           9182    202206          44    41       4.000     3.500   \n",
       "4           9182     62430           1    81       4.000     1.000   \n",
       "...          ...       ...         ...   ...         ...       ...   \n",
       "6575    19196894  19421150          44    29     365.000     3.000   \n",
       "6576    19226590  19233758           1    60     365.375     0.125   \n",
       "6577    19226590  19233758           1    48     365.375     0.125   \n",
       "6578    19233758  19421150           1    65     365.500     2.500   \n",
       "6579    19233758  19421150           1    53     365.500     2.500   \n",
       "\n",
       "          note_value  \n",
       "0     Dotted Quarter  \n",
       "1             Eighth  \n",
       "2            Quarter  \n",
       "3              Whole  \n",
       "4            Quarter  \n",
       "...              ...  \n",
       "6575     Dotted Half  \n",
       "6576   Thirty Second  \n",
       "6577   Thirty Second  \n",
       "6578     Dotted Half  \n",
       "6579     Dotted Half  \n",
       "\n",
       "[6580 rows x 7 columns]"
      ]
     },
     "execution_count": 5,
     "metadata": {},
     "output_type": "execute_result"
    }
   ],
   "source": [
    "labeling"
   ]
  },
  {
   "cell_type": "code",
   "execution_count": 6,
   "metadata": {},
   "outputs": [],
   "source": [
    "# the sampling in the label files are for the 44KHz sampling - need to convert to our 16KHz"
   ]
  },
  {
   "cell_type": "code",
   "execution_count": 7,
   "metadata": {},
   "outputs": [],
   "source": [
    "labeling['start_time'] = labeling['start_time'] / 44100\n",
    "labeling['end_time'] = labeling['end_time'] / 44100"
   ]
  },
  {
   "cell_type": "code",
   "execution_count": 8,
   "metadata": {},
   "outputs": [],
   "source": [
    "n_notes = 128 # include silence as additional note\n",
    "n_instruments = 128 # include silence as an instrument"
   ]
  },
  {
   "cell_type": "markdown",
   "metadata": {},
   "source": [
    "Each vector in the latent representation spans a 10ms window from the original audio, ie. $0.01 \\times 16000 = 160$ samples"
   ]
  },
  {
   "cell_type": "code",
   "execution_count": 9,
   "metadata": {},
   "outputs": [],
   "source": [
    "window_size_ms = 10"
   ]
  },
  {
   "cell_type": "code",
   "execution_count": 10,
   "metadata": {},
   "outputs": [],
   "source": [
    "downsampling = window_size_ms / 1000 * samplingRate"
   ]
  },
  {
   "cell_type": "code",
   "execution_count": 11,
   "metadata": {},
   "outputs": [],
   "source": [
    "n_windows = int(np.ceil(sequence.shape[0] / downsampling))"
   ]
  },
  {
   "cell_type": "code",
   "execution_count": 12,
   "metadata": {},
   "outputs": [],
   "source": [
    "target_matrix_tensor = torch.zeros(n_windows, n_notes + 1, n_instruments + 1)"
   ]
  },
  {
   "cell_type": "code",
   "execution_count": 13,
   "metadata": {},
   "outputs": [
    {
     "name": "stderr",
     "output_type": "stream",
     "text": [
      "100%|██████████| 44706/44706 [01:10<00:00, 637.46it/s]\n"
     ]
    }
   ],
   "source": [
    "for i in trange(n_windows):\n",
    "    end = (i+1) * window_size_ms / 1000\n",
    "    playing = labeling[(labeling['start_time'] <= end) & \\\n",
    "                       (end <= labeling['end_time'])][['note', 'instrument']].values\n",
    "    notes, instruments = playing[:, 0], playing[:,1]\n",
    "    if len(notes) == 0:\n",
    "        # if silence, then instrument == 0 plays note == 0\n",
    "        target_matrix_tensor[i, 0, 0] = 1\n",
    "    else:\n",
    "        target_matrix_tensor[i, notes, instruments] = 1"
   ]
  },
  {
   "cell_type": "code",
   "execution_count": 18,
   "metadata": {},
   "outputs": [
    {
     "name": "stdout",
     "output_type": "stream",
     "text": [
      "tensor(1.)\n",
      "tensor(1.)\n",
      "tensor(1.)\n",
      "tensor(1.)\n",
      "tensor(1.)\n",
      "tensor(1.)\n",
      "tensor(1.)\n",
      "tensor(1.)\n",
      "tensor(1.)\n",
      "tensor(1.)\n",
      "tensor(1.)\n",
      "tensor(1.)\n",
      "tensor(1.)\n",
      "tensor(1.)\n",
      "tensor(1.)\n",
      "tensor(1.)\n",
      "tensor(1.)\n",
      "tensor(1.)\n",
      "tensor(1.)\n",
      "tensor(1.)\n",
      "tensor(5.)\n"
     ]
    }
   ],
   "source": [
    "# check: the first 20 tensors should be silent, then we have 5 notes being playes:\n",
    "\n",
    "for i in range(21):\n",
    "    print(target_matrix_tensor[i].sum())"
   ]
  },
  {
   "cell_type": "markdown",
   "metadata": {},
   "source": [
    "Wrap the above into a function:"
   ]
  },
  {
   "cell_type": "code",
   "execution_count": null,
   "metadata": {},
   "outputs": [],
   "source": [
    "def MusicTranscripter(sequence_path,\n",
    "                      labels_path,\n",
    "                      n_instruments=128, # TODO need to check how many there are by inspecting all files\n",
    "                      n_notes=128,\n",
    "                      window_size_ms=10):\n",
    "    \n",
    "    '''\n",
    "    Provides binary target matrices denoting all instruments that play during\n",
    "    for each window_size_ms window in the latent representations\n",
    "    '''\n",
    "\n",
    "    labeling = pd.read_csv(labels_path)\n",
    "    # convert time columns to seconds for simplicity\n",
    "    labeling['start_time'] = labeling['start_time'] / 44100\n",
    "    labeling['end_time'] = labeling['end_time'] / 44100\n",
    "    \n",
    "    rawAudioPath = Path(sequence_path)\n",
    "    sequence, samplingRate = librosa.load(sequence_path, sr=16000)\n",
    "    downsampling = window_size_ms / 1000 * samplingRate\n",
    "    n_windows = int(np.ceil(sequence.shape[0] / downsampling)) # allow for aggregating windows\n",
    "    transcription = torch.zeros(n_windows, n_notes + 1, n_instruments + 1)\n",
    "    \n",
    "    for i in range(n_windows):\n",
    "        \n",
    "        end = (i+1) * window_size_ms / 1000\n",
    "        \n",
    "        playing = labeling[(labeling['start_time'] <= end) & \\\n",
    "                       (end <= labeling['end_time'])][['note', 'instrument']].values\n",
    "        \n",
    "        notes, instruments = playing[:, 0], playing[:,1]\n",
    "        \n",
    "        if len(notes) == 0:\n",
    "            # if silence, then instrument == 0 plays note == 0\n",
    "            transcription[i, 0, 0] = 1\n",
    "        else:\n",
    "            transcription[i, notes, instruments] = 1\n",
    "    \n",
    "    return transcription"
   ]
  }
 ],
 "metadata": {
  "kernelspec": {
   "display_name": "Python 3",
   "language": "python",
   "name": "python3"
  },
  "language_info": {
   "codemirror_mode": {
    "name": "ipython",
    "version": 3
   },
   "file_extension": ".py",
   "mimetype": "text/x-python",
   "name": "python",
   "nbconvert_exporter": "python",
   "pygments_lexer": "ipython3",
   "version": "3.8.5"
  }
 },
 "nbformat": 4,
 "nbformat_minor": 4
}
