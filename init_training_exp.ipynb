{
  "nbformat": 4,
  "nbformat_minor": 0,
  "metadata": {
    "colab": {
      "name": "init_training_exp.ipynb",
      "provenance": [],
      "collapsed_sections": []
    },
    "kernelspec": {
      "name": "python3",
      "display_name": "Python 3"
    },
    "language_info": {
      "name": "python"
    },
    "accelerator": "GPU"
  },
  "cells": [
    {
      "cell_type": "code",
      "metadata": {
        "colab": {
          "base_uri": "https://localhost:8080/"
        },
        "id": "bS3zre3hVRaa",
        "outputId": "b0075db9-70b8-4105-fe76-323785498399"
      },
      "source": [
        "from google.colab import drive\n",
        "drive.mount('/content/gdrive')\n",
        "%cd /content/gdrive/My Drive/DLProjects/JTM"
      ],
      "execution_count": 1,
      "outputs": [
        {
          "output_type": "stream",
          "text": [
            "Mounted at /content/gdrive\n",
            "/content/gdrive/My Drive/DLProjects/JTM\n"
          ],
          "name": "stdout"
        }
      ]
    },
    {
      "cell_type": "code",
      "metadata": {
        "id": "hmv_AG1ws6Sc",
        "colab": {
          "base_uri": "https://localhost:8080/"
        },
        "outputId": "5f3165a5-0ece-4f73-bcbf-1821e663ec04"
      },
      "source": [
        "!nvidia-smi -L"
      ],
      "execution_count": 2,
      "outputs": [
        {
          "output_type": "stream",
          "text": [
            "GPU 0: Tesla T4 (UUID: GPU-a062ef60-ba2e-43ff-353b-c3e5efcfd094)\n"
          ],
          "name": "stdout"
        }
      ]
    },
    {
      "cell_type": "code",
      "metadata": {
        "id": "hpthiUBiVZ_W"
      },
      "source": [
        "import torch\n",
        "from dataloader import AudioBatchData\n",
        "from model import CPCEncoder, CPCAR, CPCModel, CPCUnsupersivedCriterion\n",
        "from trainer import run\n",
        "from datetime import datetime\n",
        "import os"
      ],
      "execution_count": 6,
      "outputs": []
    },
    {
      "cell_type": "code",
      "metadata": {
        "colab": {
          "base_uri": "https://localhost:8080/"
        },
        "id": "7f1IN1MRVdDy",
        "outputId": "06f4dea1-87e7-4907-dd51-782948b21dc0"
      },
      "source": [
        "labelsBy = 'ensemble'\n",
        "print(\"Loading the training dataset\")\n",
        "trainDataset = AudioBatchData(rawAudioPath='data/musicnet_lousy/train_data',\n",
        "                                metadataPath='data/musicnet_lousy/metadata_train.csv',\n",
        "                                sizeWindow=20480,\n",
        "                                labelsBy=labelsBy,\n",
        "                                outputPath='data/musicnet_lousy/train_data/train',\n",
        "                                CHUNK_SIZE=1e9,\n",
        "                                NUM_CHUNKS_INMEM=7)\n",
        "print(\"Training dataset loaded\")\n",
        "print(\"\")\n",
        "\n",
        "print(\"Loading the validation dataset\")\n",
        "valDataset = AudioBatchData(rawAudioPath='data/musicnet_lousy/train_data',\n",
        "                            metadataPath='data/musicnet_lousy/metadata_val.csv',\n",
        "                            sizeWindow=20480,\n",
        "                            labelsBy=labelsBy,\n",
        "                            outputPath='data/musicnet_lousy/train_data/val',\n",
        "                            CHUNK_SIZE=1e9,\n",
        "                            NUM_CHUNKS_INMEM=1)\n",
        "print(\"Validation dataset loaded\")\n",
        "print(\"\")"
      ],
      "execution_count": 4,
      "outputs": [
        {
          "output_type": "stream",
          "text": [
            "Loading the training dataset\n",
            "Chunks already exist at data/musicnet_lousy/train_data/train/ensemble\n",
            "Loading files\n",
            "Loaded 288 sequences, elapsed=155.862 secs\n",
            "Training dataset loaded\n",
            "\n",
            "Loading the validation dataset\n",
            "Chunks already exist at data/musicnet_lousy/train_data/val/ensemble\n",
            "Loading files\n",
            "Loaded 32 sequences, elapsed=18.488 secs\n",
            "Validation dataset loaded\n",
            "\n"
          ],
          "name": "stdout"
        }
      ]
    },
    {
      "cell_type": "code",
      "metadata": {
        "colab": {
          "base_uri": "https://localhost:8080/"
        },
        "id": "hBri49jRXtf0",
        "outputId": "8fef39c4-ff12-41ae-e84c-b8b3b8dce44e"
      },
      "source": [
        "samplingType = 'samesequence'\n",
        "\n",
        "# Encoder network\n",
        "encoderNet = CPCEncoder(512, 'layerNorm')\n",
        "# AR Network\n",
        "arNet = CPCAR(512, 256, samplingType == 'sequential', 1, mode=\"GRU\", reverse=False)\n",
        "\n",
        "cpcModel = CPCModel(encoderNet, arNet)\n",
        "batchSize = 8\n",
        "cpcModel.supervised = False\n",
        "\n",
        "cpcCriterion = CPCUnsupersivedCriterion(nPredicts=12,\n",
        "                                        dimOutputAR=256,\n",
        "                                        dimOutputEncoder=512,\n",
        "                                        negativeSamplingExt=128,\n",
        "                                        mode=None,\n",
        "                                        dropout=False)\n",
        "cpcCriterion.cuda()\n",
        "cpcModel.cuda()\n",
        "gParams = list(cpcCriterion.parameters()) + list(cpcModel.parameters())\n",
        "lr = 2e-4\n",
        "optimizer = torch.optim.Adam(gParams, lr=lr, betas=(0.9, 0.999), eps=1e-8)\n",
        "\n",
        "expDescription = f'{samplingType}_'\n",
        "if samplingType == 'samecategory':\n",
        "    expDescription += f'{labelsBy}_'\n",
        "\n",
        "pathCheckpoint = f'logs/{expDescription}{datetime.now().strftime(\"%d-%m_%H-%M-%S\")}'\n",
        "# if not os.path.isdir(pathCheckpoint):\n",
        "os.makedirs(pathCheckpoint, exist_ok=True)\n",
        "pathCheckpoint = os.path.join(pathCheckpoint, \"checkpoint\")\n",
        "\n",
        "logs = {\"epoch\": [], \"iter\": [], \"saveStep\": 1, \"logging_step\": 1000}\n",
        "run(trainDataset, valDataset, batchSize, samplingType, cpcModel, cpcCriterion, 30, optimizer, pathCheckpoint, logs)"
      ],
      "execution_count": null,
      "outputs": [
        {
          "output_type": "stream",
          "text": [
            "Running 30 epochs\n",
            "Starting epoch 0\n",
            "Training dataset 10681 batches, Validation dataset 1172 batches, batch size 8\n",
            "Update 1000\n",
            "elapsed: 277.2 s\n",
            "277.2 ms per batch, 34.7 ms / example\n",
            "\n",
            "--------------------------------------------------\n",
            "Training loss\n",
            "            Step                1                2                3                4                5                6                7                8                9               10               11               12\n",
            "   locLoss_train         4.840637         4.840911         4.841719         4.842169         4.842353         4.842612         4.842544         4.843078         4.843147         4.843249         4.843182         4.833532\n",
            "            Step                1                2                3                4                5                6                7                8                9               10               11               12\n",
            "    locAcc_train         0.008723         0.008676         0.008721         0.008575         0.008728         0.008620         0.008554         0.008595         0.008385         0.008554         0.008613         0.012753\n",
            "--------------------------------------------------\n",
            "Update 2000\n",
            "elapsed: 277.1 s\n",
            "277.1 ms per batch, 34.6 ms / example\n",
            "\n",
            "--------------------------------------------------\n",
            "Training loss\n",
            "            Step                1                2                3                4                5                6                7                8                9               10               11               12\n",
            "   locLoss_train         4.347063         4.425697         4.492387         4.538811         4.575677         4.604694         4.626916         4.645096         4.660099         4.671719         4.681251         4.682028\n",
            "            Step                1                2                3                4                5                6                7                8                9               10               11               12\n",
            "    locAcc_train         0.041300         0.031016         0.026163         0.023654         0.021607         0.019629         0.018820         0.017941         0.017136         0.016472         0.016060         0.018241\n",
            "--------------------------------------------------\n",
            "Update 3000\n",
            "elapsed: 277.4 s\n",
            "277.4 ms per batch, 34.7 ms / example\n",
            "\n",
            "--------------------------------------------------\n",
            "Training loss\n",
            "            Step                1                2                3                4                5                6                7                8                9               10               11               12\n",
            "   locLoss_train         3.186013         3.421417         3.757093         3.922702         4.049505         4.145297         4.218435         4.274949         4.322203         4.357763         4.386963         4.417272\n",
            "            Step                1                2                3                4                5                6                7                8                9               10               11               12\n",
            "    locAcc_train         0.167232         0.102865         0.066852         0.055373         0.048144         0.042655         0.039058         0.035503         0.033234         0.030515         0.029380         0.028065\n",
            "--------------------------------------------------\n",
            "Update 4000\n",
            "elapsed: 277.4 s\n",
            "277.4 ms per batch, 34.7 ms / example\n",
            "\n",
            "--------------------------------------------------\n",
            "Training loss\n",
            "            Step                1                2                3                4                5                6                7                8                9               10               11               12\n",
            "   locLoss_train         2.717316         3.102572         3.591797         3.793372         3.945836         4.060319         4.145646         4.213008         4.266819         4.308968         4.342942         4.377950\n",
            "            Step                1                2                3                4                5                6                7                8                9               10               11               12\n",
            "    locAcc_train         0.311907         0.149903         0.078972         0.065977         0.056886         0.050739         0.045925         0.041469         0.038531         0.036154         0.034096         0.032237\n",
            "--------------------------------------------------\n",
            "Update 5000\n",
            "elapsed: 277.4 s\n",
            "277.4 ms per batch, 34.7 ms / example\n",
            "\n",
            "--------------------------------------------------\n",
            "Training loss\n",
            "            Step                1                2                3                4                5                6                7                8                9               10               11               12\n",
            "   locLoss_train         2.194667         2.791040         3.344456         3.576065         3.754181         3.892077         3.989598         4.069221         4.133106         4.186422         4.227962         4.272869\n",
            "            Step                1                2                3                4                5                6                7                8                9               10               11               12\n",
            "    locAcc_train         0.471639         0.224287         0.120407         0.100802         0.084600         0.072870         0.065262         0.058231         0.053331         0.049419         0.045921         0.042290\n",
            "--------------------------------------------------\n"
          ],
          "name": "stdout"
        }
      ]
    }
  ]
}